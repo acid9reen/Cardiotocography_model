{
 "metadata": {
  "language_info": {
   "codemirror_mode": {
    "name": "ipython",
    "version": 3
   },
   "file_extension": ".py",
   "mimetype": "text/x-python",
   "name": "python",
   "nbconvert_exporter": "python",
   "pygments_lexer": "ipython3",
   "version": "3.8.5-final"
  },
  "orig_nbformat": 2,
  "kernelspec": {
   "name": "Python 3.8.5 32-bit ('.venv')",
   "display_name": "Python 3.8.5 32-bit ('.venv')",
   "metadata": {
    "interpreter": {
     "hash": "fa635b9b90b3ef75a3ea448172c0bc96c301743338c4acc7ef59cc89483b1196"
    }
   }
  }
 },
 "nbformat": 4,
 "nbformat_minor": 2,
 "cells": [
  {
   "cell_type": "code",
   "execution_count": 172,
   "metadata": {},
   "outputs": [],
   "source": [
    "import pandas as pd\n",
    "\n",
    "DATA_PATH = r\"./data/CTG.xls\"\n",
    "\n",
    "def load_cardiotography(filepath: str):\n",
    "    return pd.read_excel(filepath, sheet_name=\"Raw Data\")"
   ]
  },
  {
   "cell_type": "code",
   "execution_count": 173,
   "metadata": {},
   "outputs": [
    {
     "output_type": "execute_result",
     "data": {
      "text/plain": [
       "       b       e    LBE     LB   AC   FM   UC  ASTV  MSTV  ALTV  ...   Min  \\\n",
       "1  240.0   357.0  120.0  120.0  0.0  0.0  0.0  73.0   0.5  43.0  ...  62.0   \n",
       "2    5.0   632.0  132.0  132.0  4.0  0.0  4.0  17.0   2.1   0.0  ...  68.0   \n",
       "3  177.0   779.0  133.0  133.0  2.0  0.0  5.0  16.0   2.1   0.0  ...  68.0   \n",
       "4  411.0  1192.0  134.0  134.0  2.0  0.0  6.0  16.0   2.4   0.0  ...  53.0   \n",
       "5  533.0  1147.0  132.0  132.0  4.0  0.0  5.0  16.0   2.4   0.0  ...  53.0   \n",
       "\n",
       "     Max  Nmax  Nzeros   Mode   Mean  Median  Variance  Tendency  CLASS  \n",
       "1  126.0   2.0     0.0  120.0  137.0   121.0      73.0       1.0     FS  \n",
       "2  198.0   6.0     1.0  141.0  136.0   140.0      12.0       0.0     AD  \n",
       "3  198.0   5.0     1.0  141.0  135.0   138.0      13.0       0.0     AD  \n",
       "4  170.0  11.0     0.0  137.0  134.0   137.0      13.0       1.0     AD  \n",
       "5  170.0   9.0     0.0  137.0  136.0   138.0      11.0       1.0      B  \n",
       "\n",
       "[5 rows x 26 columns]"
      ],
      "text/html": "<div>\n<style scoped>\n    .dataframe tbody tr th:only-of-type {\n        vertical-align: middle;\n    }\n\n    .dataframe tbody tr th {\n        vertical-align: top;\n    }\n\n    .dataframe thead th {\n        text-align: right;\n    }\n</style>\n<table border=\"1\" class=\"dataframe\">\n  <thead>\n    <tr style=\"text-align: right;\">\n      <th></th>\n      <th>b</th>\n      <th>e</th>\n      <th>LBE</th>\n      <th>LB</th>\n      <th>AC</th>\n      <th>FM</th>\n      <th>UC</th>\n      <th>ASTV</th>\n      <th>MSTV</th>\n      <th>ALTV</th>\n      <th>...</th>\n      <th>Min</th>\n      <th>Max</th>\n      <th>Nmax</th>\n      <th>Nzeros</th>\n      <th>Mode</th>\n      <th>Mean</th>\n      <th>Median</th>\n      <th>Variance</th>\n      <th>Tendency</th>\n      <th>CLASS</th>\n    </tr>\n  </thead>\n  <tbody>\n    <tr>\n      <th>1</th>\n      <td>240.0</td>\n      <td>357.0</td>\n      <td>120.0</td>\n      <td>120.0</td>\n      <td>0.0</td>\n      <td>0.0</td>\n      <td>0.0</td>\n      <td>73.0</td>\n      <td>0.5</td>\n      <td>43.0</td>\n      <td>...</td>\n      <td>62.0</td>\n      <td>126.0</td>\n      <td>2.0</td>\n      <td>0.0</td>\n      <td>120.0</td>\n      <td>137.0</td>\n      <td>121.0</td>\n      <td>73.0</td>\n      <td>1.0</td>\n      <td>FS</td>\n    </tr>\n    <tr>\n      <th>2</th>\n      <td>5.0</td>\n      <td>632.0</td>\n      <td>132.0</td>\n      <td>132.0</td>\n      <td>4.0</td>\n      <td>0.0</td>\n      <td>4.0</td>\n      <td>17.0</td>\n      <td>2.1</td>\n      <td>0.0</td>\n      <td>...</td>\n      <td>68.0</td>\n      <td>198.0</td>\n      <td>6.0</td>\n      <td>1.0</td>\n      <td>141.0</td>\n      <td>136.0</td>\n      <td>140.0</td>\n      <td>12.0</td>\n      <td>0.0</td>\n      <td>AD</td>\n    </tr>\n    <tr>\n      <th>3</th>\n      <td>177.0</td>\n      <td>779.0</td>\n      <td>133.0</td>\n      <td>133.0</td>\n      <td>2.0</td>\n      <td>0.0</td>\n      <td>5.0</td>\n      <td>16.0</td>\n      <td>2.1</td>\n      <td>0.0</td>\n      <td>...</td>\n      <td>68.0</td>\n      <td>198.0</td>\n      <td>5.0</td>\n      <td>1.0</td>\n      <td>141.0</td>\n      <td>135.0</td>\n      <td>138.0</td>\n      <td>13.0</td>\n      <td>0.0</td>\n      <td>AD</td>\n    </tr>\n    <tr>\n      <th>4</th>\n      <td>411.0</td>\n      <td>1192.0</td>\n      <td>134.0</td>\n      <td>134.0</td>\n      <td>2.0</td>\n      <td>0.0</td>\n      <td>6.0</td>\n      <td>16.0</td>\n      <td>2.4</td>\n      <td>0.0</td>\n      <td>...</td>\n      <td>53.0</td>\n      <td>170.0</td>\n      <td>11.0</td>\n      <td>0.0</td>\n      <td>137.0</td>\n      <td>134.0</td>\n      <td>137.0</td>\n      <td>13.0</td>\n      <td>1.0</td>\n      <td>AD</td>\n    </tr>\n    <tr>\n      <th>5</th>\n      <td>533.0</td>\n      <td>1147.0</td>\n      <td>132.0</td>\n      <td>132.0</td>\n      <td>4.0</td>\n      <td>0.0</td>\n      <td>5.0</td>\n      <td>16.0</td>\n      <td>2.4</td>\n      <td>0.0</td>\n      <td>...</td>\n      <td>53.0</td>\n      <td>170.0</td>\n      <td>9.0</td>\n      <td>0.0</td>\n      <td>137.0</td>\n      <td>136.0</td>\n      <td>138.0</td>\n      <td>11.0</td>\n      <td>1.0</td>\n      <td>B</td>\n    </tr>\n  </tbody>\n</table>\n<p>5 rows × 26 columns</p>\n</div>"
     },
     "metadata": {},
     "execution_count": 173
    }
   ],
   "source": [
    "cardiotography = load_cardiotography(DATA_PATH)\n",
    "class_labels = ['A', 'B', 'C', 'D', 'E', 'AD','DE', 'LD', 'FS', 'SUSP']\n",
    "cardiotography = cardiotography.drop(index=[0, 2127, 2128, 2129], columns=[\"FileName\", \"Date\", \"SegFile\", \"NSP\"] + class_labels)\n",
    "\n",
    "cardiotography.CLASS[:] = [class_labels[int(i) - 1] for i in cardiotography.CLASS]\n",
    "\n",
    "cardiotography.head()"
   ]
  },
  {
   "cell_type": "code",
   "execution_count": 174,
   "metadata": {},
   "outputs": [
    {
     "output_type": "execute_result",
     "data": {
      "text/plain": [
       "           b       e    LBE     LB   AC   FM   UC  ASTV  MSTV  ALTV  ...  \\\n",
       "2122  2059.0  2867.0  140.0  140.0  0.0  0.0  6.0  79.0   0.2  25.0  ...   \n",
       "2123  1576.0  2867.0  140.0  140.0  1.0  0.0  9.0  78.0   0.4  22.0  ...   \n",
       "2124  1576.0  2596.0  140.0  140.0  1.0  0.0  7.0  79.0   0.4  20.0  ...   \n",
       "2125  1576.0  3049.0  140.0  140.0  1.0  0.0  9.0  78.0   0.4  27.0  ...   \n",
       "2126  2796.0  3415.0  142.0  142.0  1.0  1.0  5.0  74.0   0.4  36.0  ...   \n",
       "\n",
       "        Min    Max  Nmax  Nzeros   Mode   Mean  Median  Variance  Tendency  \\\n",
       "2122  137.0  177.0   4.0     0.0  153.0  150.0   152.0       2.0       0.0   \n",
       "2123  103.0  169.0   6.0     0.0  152.0  148.0   151.0       3.0       1.0   \n",
       "2124  103.0  170.0   5.0     0.0  153.0  148.0   152.0       4.0       1.0   \n",
       "2125  103.0  169.0   6.0     0.0  152.0  147.0   151.0       4.0       1.0   \n",
       "2126  117.0  159.0   2.0     1.0  145.0  143.0   145.0       1.0       0.0   \n",
       "\n",
       "      CLASS  \n",
       "2122      E  \n",
       "2123      E  \n",
       "2124      E  \n",
       "2125      E  \n",
       "2126      A  \n",
       "\n",
       "[5 rows x 26 columns]"
      ],
      "text/html": "<div>\n<style scoped>\n    .dataframe tbody tr th:only-of-type {\n        vertical-align: middle;\n    }\n\n    .dataframe tbody tr th {\n        vertical-align: top;\n    }\n\n    .dataframe thead th {\n        text-align: right;\n    }\n</style>\n<table border=\"1\" class=\"dataframe\">\n  <thead>\n    <tr style=\"text-align: right;\">\n      <th></th>\n      <th>b</th>\n      <th>e</th>\n      <th>LBE</th>\n      <th>LB</th>\n      <th>AC</th>\n      <th>FM</th>\n      <th>UC</th>\n      <th>ASTV</th>\n      <th>MSTV</th>\n      <th>ALTV</th>\n      <th>...</th>\n      <th>Min</th>\n      <th>Max</th>\n      <th>Nmax</th>\n      <th>Nzeros</th>\n      <th>Mode</th>\n      <th>Mean</th>\n      <th>Median</th>\n      <th>Variance</th>\n      <th>Tendency</th>\n      <th>CLASS</th>\n    </tr>\n  </thead>\n  <tbody>\n    <tr>\n      <th>2122</th>\n      <td>2059.0</td>\n      <td>2867.0</td>\n      <td>140.0</td>\n      <td>140.0</td>\n      <td>0.0</td>\n      <td>0.0</td>\n      <td>6.0</td>\n      <td>79.0</td>\n      <td>0.2</td>\n      <td>25.0</td>\n      <td>...</td>\n      <td>137.0</td>\n      <td>177.0</td>\n      <td>4.0</td>\n      <td>0.0</td>\n      <td>153.0</td>\n      <td>150.0</td>\n      <td>152.0</td>\n      <td>2.0</td>\n      <td>0.0</td>\n      <td>E</td>\n    </tr>\n    <tr>\n      <th>2123</th>\n      <td>1576.0</td>\n      <td>2867.0</td>\n      <td>140.0</td>\n      <td>140.0</td>\n      <td>1.0</td>\n      <td>0.0</td>\n      <td>9.0</td>\n      <td>78.0</td>\n      <td>0.4</td>\n      <td>22.0</td>\n      <td>...</td>\n      <td>103.0</td>\n      <td>169.0</td>\n      <td>6.0</td>\n      <td>0.0</td>\n      <td>152.0</td>\n      <td>148.0</td>\n      <td>151.0</td>\n      <td>3.0</td>\n      <td>1.0</td>\n      <td>E</td>\n    </tr>\n    <tr>\n      <th>2124</th>\n      <td>1576.0</td>\n      <td>2596.0</td>\n      <td>140.0</td>\n      <td>140.0</td>\n      <td>1.0</td>\n      <td>0.0</td>\n      <td>7.0</td>\n      <td>79.0</td>\n      <td>0.4</td>\n      <td>20.0</td>\n      <td>...</td>\n      <td>103.0</td>\n      <td>170.0</td>\n      <td>5.0</td>\n      <td>0.0</td>\n      <td>153.0</td>\n      <td>148.0</td>\n      <td>152.0</td>\n      <td>4.0</td>\n      <td>1.0</td>\n      <td>E</td>\n    </tr>\n    <tr>\n      <th>2125</th>\n      <td>1576.0</td>\n      <td>3049.0</td>\n      <td>140.0</td>\n      <td>140.0</td>\n      <td>1.0</td>\n      <td>0.0</td>\n      <td>9.0</td>\n      <td>78.0</td>\n      <td>0.4</td>\n      <td>27.0</td>\n      <td>...</td>\n      <td>103.0</td>\n      <td>169.0</td>\n      <td>6.0</td>\n      <td>0.0</td>\n      <td>152.0</td>\n      <td>147.0</td>\n      <td>151.0</td>\n      <td>4.0</td>\n      <td>1.0</td>\n      <td>E</td>\n    </tr>\n    <tr>\n      <th>2126</th>\n      <td>2796.0</td>\n      <td>3415.0</td>\n      <td>142.0</td>\n      <td>142.0</td>\n      <td>1.0</td>\n      <td>1.0</td>\n      <td>5.0</td>\n      <td>74.0</td>\n      <td>0.4</td>\n      <td>36.0</td>\n      <td>...</td>\n      <td>117.0</td>\n      <td>159.0</td>\n      <td>2.0</td>\n      <td>1.0</td>\n      <td>145.0</td>\n      <td>143.0</td>\n      <td>145.0</td>\n      <td>1.0</td>\n      <td>0.0</td>\n      <td>A</td>\n    </tr>\n  </tbody>\n</table>\n<p>5 rows × 26 columns</p>\n</div>"
     },
     "metadata": {},
     "execution_count": 174
    }
   ],
   "source": [
    "cardiotography.tail()"
   ]
  },
  {
   "cell_type": "code",
   "execution_count": 175,
   "metadata": {},
   "outputs": [
    {
     "output_type": "execute_result",
     "data": {
      "text/plain": [
       "Index(['b', 'e', 'LBE', 'LB', 'AC', 'FM', 'UC', 'ASTV', 'MSTV', 'ALTV', 'MLTV',\n",
       "       'DL', 'DS', 'DP', 'DR', 'Width', 'Min', 'Max', 'Nmax', 'Nzeros', 'Mode',\n",
       "       'Mean', 'Median', 'Variance', 'Tendency', 'CLASS'],\n",
       "      dtype='object')"
      ]
     },
     "metadata": {},
     "execution_count": 175
    }
   ],
   "source": [
    "cardiotography.keys()"
   ]
  },
  {
   "cell_type": "code",
   "execution_count": 176,
   "metadata": {},
   "outputs": [
    {
     "output_type": "execute_result",
     "data": {
      "text/plain": [
       "                 b            e          LBE           LB           AC  \\\n",
       "count  2126.000000  2126.000000  2126.000000  2126.000000  2126.000000   \n",
       "mean    878.439793  1702.877234   133.303857   133.303857     2.722484   \n",
       "std     894.084748   930.919143     9.840844     9.840844     3.560850   \n",
       "min       0.000000   287.000000   106.000000   106.000000     0.000000   \n",
       "25%      55.000000  1009.000000   126.000000   126.000000     0.000000   \n",
       "50%     538.000000  1241.000000   133.000000   133.000000     1.000000   \n",
       "75%    1521.000000  2434.750000   140.000000   140.000000     4.000000   \n",
       "max    3296.000000  3599.000000   160.000000   160.000000    26.000000   \n",
       "\n",
       "                FM           UC         ASTV         MSTV        ALTV  ...  \\\n",
       "count  2126.000000  2126.000000  2126.000000  2126.000000  2126.00000  ...   \n",
       "mean      7.241298     3.659925    46.990122     1.332785     9.84666  ...   \n",
       "std      37.125309     2.847094    17.192814     0.883241    18.39688  ...   \n",
       "min       0.000000     0.000000    12.000000     0.200000     0.00000  ...   \n",
       "25%       0.000000     1.000000    32.000000     0.700000     0.00000  ...   \n",
       "50%       0.000000     3.000000    49.000000     1.200000     0.00000  ...   \n",
       "75%       2.000000     5.000000    61.000000     1.700000    11.00000  ...   \n",
       "max     564.000000    23.000000    87.000000     7.000000    91.00000  ...   \n",
       "\n",
       "             Width          Min          Max         Nmax       Nzeros  \\\n",
       "count  2126.000000  2126.000000  2126.000000  2126.000000  2126.000000   \n",
       "mean     70.445908    93.579492   164.025400     4.068203     0.323612   \n",
       "std      38.955693    29.560212    17.944183     2.949386     0.706059   \n",
       "min       3.000000    50.000000   122.000000     0.000000     0.000000   \n",
       "25%      37.000000    67.000000   152.000000     2.000000     0.000000   \n",
       "50%      67.500000    93.000000   162.000000     3.000000     0.000000   \n",
       "75%     100.000000   120.000000   174.000000     6.000000     0.000000   \n",
       "max     180.000000   159.000000   238.000000    18.000000    10.000000   \n",
       "\n",
       "              Mode         Mean       Median     Variance     Tendency  \n",
       "count  2126.000000  2126.000000  2126.000000  2126.000000  2126.000000  \n",
       "mean    137.452023   134.610536   138.090310    18.808090     0.320320  \n",
       "std      16.381289    15.593596    14.466589    28.977636     0.610829  \n",
       "min      60.000000    73.000000    77.000000     0.000000    -1.000000  \n",
       "25%     129.000000   125.000000   129.000000     2.000000     0.000000  \n",
       "50%     139.000000   136.000000   139.000000     7.000000     0.000000  \n",
       "75%     148.000000   145.000000   148.000000    24.000000     1.000000  \n",
       "max     187.000000   182.000000   186.000000   269.000000     1.000000  \n",
       "\n",
       "[8 rows x 25 columns]"
      ],
      "text/html": "<div>\n<style scoped>\n    .dataframe tbody tr th:only-of-type {\n        vertical-align: middle;\n    }\n\n    .dataframe tbody tr th {\n        vertical-align: top;\n    }\n\n    .dataframe thead th {\n        text-align: right;\n    }\n</style>\n<table border=\"1\" class=\"dataframe\">\n  <thead>\n    <tr style=\"text-align: right;\">\n      <th></th>\n      <th>b</th>\n      <th>e</th>\n      <th>LBE</th>\n      <th>LB</th>\n      <th>AC</th>\n      <th>FM</th>\n      <th>UC</th>\n      <th>ASTV</th>\n      <th>MSTV</th>\n      <th>ALTV</th>\n      <th>...</th>\n      <th>Width</th>\n      <th>Min</th>\n      <th>Max</th>\n      <th>Nmax</th>\n      <th>Nzeros</th>\n      <th>Mode</th>\n      <th>Mean</th>\n      <th>Median</th>\n      <th>Variance</th>\n      <th>Tendency</th>\n    </tr>\n  </thead>\n  <tbody>\n    <tr>\n      <th>count</th>\n      <td>2126.000000</td>\n      <td>2126.000000</td>\n      <td>2126.000000</td>\n      <td>2126.000000</td>\n      <td>2126.000000</td>\n      <td>2126.000000</td>\n      <td>2126.000000</td>\n      <td>2126.000000</td>\n      <td>2126.000000</td>\n      <td>2126.00000</td>\n      <td>...</td>\n      <td>2126.000000</td>\n      <td>2126.000000</td>\n      <td>2126.000000</td>\n      <td>2126.000000</td>\n      <td>2126.000000</td>\n      <td>2126.000000</td>\n      <td>2126.000000</td>\n      <td>2126.000000</td>\n      <td>2126.000000</td>\n      <td>2126.000000</td>\n    </tr>\n    <tr>\n      <th>mean</th>\n      <td>878.439793</td>\n      <td>1702.877234</td>\n      <td>133.303857</td>\n      <td>133.303857</td>\n      <td>2.722484</td>\n      <td>7.241298</td>\n      <td>3.659925</td>\n      <td>46.990122</td>\n      <td>1.332785</td>\n      <td>9.84666</td>\n      <td>...</td>\n      <td>70.445908</td>\n      <td>93.579492</td>\n      <td>164.025400</td>\n      <td>4.068203</td>\n      <td>0.323612</td>\n      <td>137.452023</td>\n      <td>134.610536</td>\n      <td>138.090310</td>\n      <td>18.808090</td>\n      <td>0.320320</td>\n    </tr>\n    <tr>\n      <th>std</th>\n      <td>894.084748</td>\n      <td>930.919143</td>\n      <td>9.840844</td>\n      <td>9.840844</td>\n      <td>3.560850</td>\n      <td>37.125309</td>\n      <td>2.847094</td>\n      <td>17.192814</td>\n      <td>0.883241</td>\n      <td>18.39688</td>\n      <td>...</td>\n      <td>38.955693</td>\n      <td>29.560212</td>\n      <td>17.944183</td>\n      <td>2.949386</td>\n      <td>0.706059</td>\n      <td>16.381289</td>\n      <td>15.593596</td>\n      <td>14.466589</td>\n      <td>28.977636</td>\n      <td>0.610829</td>\n    </tr>\n    <tr>\n      <th>min</th>\n      <td>0.000000</td>\n      <td>287.000000</td>\n      <td>106.000000</td>\n      <td>106.000000</td>\n      <td>0.000000</td>\n      <td>0.000000</td>\n      <td>0.000000</td>\n      <td>12.000000</td>\n      <td>0.200000</td>\n      <td>0.00000</td>\n      <td>...</td>\n      <td>3.000000</td>\n      <td>50.000000</td>\n      <td>122.000000</td>\n      <td>0.000000</td>\n      <td>0.000000</td>\n      <td>60.000000</td>\n      <td>73.000000</td>\n      <td>77.000000</td>\n      <td>0.000000</td>\n      <td>-1.000000</td>\n    </tr>\n    <tr>\n      <th>25%</th>\n      <td>55.000000</td>\n      <td>1009.000000</td>\n      <td>126.000000</td>\n      <td>126.000000</td>\n      <td>0.000000</td>\n      <td>0.000000</td>\n      <td>1.000000</td>\n      <td>32.000000</td>\n      <td>0.700000</td>\n      <td>0.00000</td>\n      <td>...</td>\n      <td>37.000000</td>\n      <td>67.000000</td>\n      <td>152.000000</td>\n      <td>2.000000</td>\n      <td>0.000000</td>\n      <td>129.000000</td>\n      <td>125.000000</td>\n      <td>129.000000</td>\n      <td>2.000000</td>\n      <td>0.000000</td>\n    </tr>\n    <tr>\n      <th>50%</th>\n      <td>538.000000</td>\n      <td>1241.000000</td>\n      <td>133.000000</td>\n      <td>133.000000</td>\n      <td>1.000000</td>\n      <td>0.000000</td>\n      <td>3.000000</td>\n      <td>49.000000</td>\n      <td>1.200000</td>\n      <td>0.00000</td>\n      <td>...</td>\n      <td>67.500000</td>\n      <td>93.000000</td>\n      <td>162.000000</td>\n      <td>3.000000</td>\n      <td>0.000000</td>\n      <td>139.000000</td>\n      <td>136.000000</td>\n      <td>139.000000</td>\n      <td>7.000000</td>\n      <td>0.000000</td>\n    </tr>\n    <tr>\n      <th>75%</th>\n      <td>1521.000000</td>\n      <td>2434.750000</td>\n      <td>140.000000</td>\n      <td>140.000000</td>\n      <td>4.000000</td>\n      <td>2.000000</td>\n      <td>5.000000</td>\n      <td>61.000000</td>\n      <td>1.700000</td>\n      <td>11.00000</td>\n      <td>...</td>\n      <td>100.000000</td>\n      <td>120.000000</td>\n      <td>174.000000</td>\n      <td>6.000000</td>\n      <td>0.000000</td>\n      <td>148.000000</td>\n      <td>145.000000</td>\n      <td>148.000000</td>\n      <td>24.000000</td>\n      <td>1.000000</td>\n    </tr>\n    <tr>\n      <th>max</th>\n      <td>3296.000000</td>\n      <td>3599.000000</td>\n      <td>160.000000</td>\n      <td>160.000000</td>\n      <td>26.000000</td>\n      <td>564.000000</td>\n      <td>23.000000</td>\n      <td>87.000000</td>\n      <td>7.000000</td>\n      <td>91.00000</td>\n      <td>...</td>\n      <td>180.000000</td>\n      <td>159.000000</td>\n      <td>238.000000</td>\n      <td>18.000000</td>\n      <td>10.000000</td>\n      <td>187.000000</td>\n      <td>182.000000</td>\n      <td>186.000000</td>\n      <td>269.000000</td>\n      <td>1.000000</td>\n    </tr>\n  </tbody>\n</table>\n<p>8 rows × 25 columns</p>\n</div>"
     },
     "metadata": {},
     "execution_count": 176
    }
   ],
   "source": [
    "cardiotography.describe()"
   ]
  },
  {
   "cell_type": "code",
   "execution_count": 177,
   "metadata": {},
   "outputs": [],
   "source": [
    "from sklearn.pipeline import Pipeline\n",
    "from sklearn.compose import ColumnTransformer\n",
    "from sklearn.preprocessing import StandardScaler\n",
    "\n",
    "num_attribs = [attr for attr in cardiotography.keys() if attr != 'CLASS']\n",
    "\n",
    "num_pipeline = Pipeline([\n",
    "    (\"std_scalar\", StandardScaler()),\n",
    "])\n",
    "\n",
    "full_pipeline = ColumnTransformer([\n",
    "    (\"num\", num_pipeline, num_attribs),\n",
    "])"
   ]
  },
  {
   "cell_type": "code",
   "execution_count": 178,
   "metadata": {},
   "outputs": [],
   "source": [
    "cardiotography_prep = full_pipeline.fit_transform(cardiotography)"
   ]
  },
  {
   "cell_type": "code",
   "execution_count": 179,
   "metadata": {},
   "outputs": [
    {
     "output_type": "execute_result",
     "data": {
      "text/plain": [
       "array([[-0.71423878, -1.44609109, -1.35222005, ..., -1.18164215,\n",
       "         1.87056871,  1.11298001],\n",
       "       [-0.97713923, -1.15061462, -0.1325256 , ...,  0.13203796,\n",
       "        -0.23499819, -0.52452553],\n",
       "       [-0.78471847, -0.99266902, -0.03088439, ..., -0.00624416,\n",
       "        -0.2004807 , -0.52452553],\n",
       "       ...,\n",
       "       [ 0.78037828,  0.95962458,  0.68060404, ...,  0.96173066,\n",
       "        -0.51113811,  1.11298001],\n",
       "       [ 0.78037828,  1.4463549 ,  0.68060404, ...,  0.8925896 ,\n",
       "        -0.51113811,  1.11298001],\n",
       "       [ 2.1452232 ,  1.83960721,  0.88388645, ...,  0.47774325,\n",
       "        -0.61469058, -0.52452553]])"
      ]
     },
     "metadata": {},
     "execution_count": 179
    }
   ],
   "source": [
    "X = cardiotography_prep\n",
    "X"
   ]
  },
  {
   "cell_type": "code",
   "execution_count": 180,
   "metadata": {},
   "outputs": [
    {
     "output_type": "execute_result",
     "data": {
      "text/plain": [
       "1       FS\n",
       "2       AD\n",
       "3       AD\n",
       "4       AD\n",
       "5        B\n",
       "        ..\n",
       "2122     E\n",
       "2123     E\n",
       "2124     E\n",
       "2125     E\n",
       "2126     A\n",
       "Name: CLASS, Length: 2126, dtype: object"
      ]
     },
     "metadata": {},
     "execution_count": 180
    }
   ],
   "source": [
    "y = cardiotography.CLASS\n",
    "y"
   ]
  },
  {
   "cell_type": "code",
   "execution_count": 181,
   "metadata": {},
   "outputs": [],
   "source": [
    "from sklearn.model_selection import train_test_split\n",
    "\n",
    "X_train, X_test, y_train, y_test = train_test_split(X, y, test_size=0.33, random_state=42)"
   ]
  },
  {
   "cell_type": "code",
   "execution_count": 182,
   "metadata": {},
   "outputs": [
    {
     "output_type": "stream",
     "name": "stdout",
     "text": [
      "sgd: [0.76       0.75368421 0.75316456]\n",
      "svm: [0.78947368 0.75578947 0.78902954]\n",
      "gbc: [0.88631579 0.87368421 0.89029536]\n"
     ]
    }
   ],
   "source": [
    "from sklearn.linear_model import SGDClassifier\n",
    "from sklearn.ensemble import GradientBoostingClassifier\n",
    "from sklearn.svm import SVC\n",
    "\n",
    "from sklearn.model_selection import cross_val_score\n",
    "\n",
    "sgd_clf = SGDClassifier(max_iter=1000, tol=1e-3, random_state=42)\n",
    "svm_clf = SVC()\n",
    "gbc_clf = GradientBoostingClassifier()\n",
    "\n",
    "print(f\"sgd: {cross_val_score(sgd_clf, X_train, y_train, cv=3, scoring='accuracy')}\")\n",
    "print(f\"svm: {cross_val_score(svm_clf, X_train, y_train, cv=3, scoring='accuracy')}\")\n",
    "print(f\"gbc: {cross_val_score(gbc_clf, X_train, y_train, cv=3, scoring='accuracy')}\")"
   ]
  },
  {
   "cell_type": "code",
   "execution_count": 183,
   "metadata": {},
   "outputs": [
    {
     "output_type": "stream",
     "name": "stdout",
     "text": [
      "sgd: {'precision': 0.7499574575355694, 'recall': 0.7556179775280899}\n",
      "svm: {'precision': 0.7946416297802646, 'recall': 0.7780898876404494}\n",
      "gbc: {'precision': 0.8828595861176338, 'recall': 0.8841292134831461}\n"
     ]
    }
   ],
   "source": [
    "from utils.usefull_funcs import calc_precision_recall\n",
    "\n",
    "print(f\"sgd: {calc_precision_recall(sgd_clf, X_train, y_train)}\")\n",
    "print(f\"svm: {calc_precision_recall(svm_clf, X_train, y_train)}\")\n",
    "print(f\"gbc: {calc_precision_recall(gbc_clf, X_train, y_train)}\")"
   ]
  },
  {
   "cell_type": "code",
   "execution_count": 190,
   "metadata": {},
   "outputs": [
    {
     "output_type": "error",
     "ename": "ImportError",
     "evalue": "cannot import name 'confusion_matrix' from 'utils.usefull_funcs' (c:\\Users\\smirn\\dev\\Cardiotocography\\utils\\usefull_funcs.py)",
     "traceback": [
      "\u001b[1;31m---------------------------------------------------------------------------\u001b[0m",
      "\u001b[1;31mImportError\u001b[0m                               Traceback (most recent call last)",
      "\u001b[1;32m<ipython-input-190-327315069c4e>\u001b[0m in \u001b[0;36m<module>\u001b[1;34m\u001b[0m\n\u001b[1;32m----> 1\u001b[1;33m \u001b[1;32mfrom\u001b[0m \u001b[0mutils\u001b[0m\u001b[1;33m.\u001b[0m\u001b[0musefull_funcs\u001b[0m \u001b[1;32mimport\u001b[0m \u001b[0mconfusion_matrix\u001b[0m\u001b[1;33m\u001b[0m\u001b[1;33m\u001b[0m\u001b[0m\n\u001b[0m\u001b[0;32m      2\u001b[0m \u001b[1;33m\u001b[0m\u001b[0m\n\u001b[0;32m      3\u001b[0m \u001b[0mstd_params\u001b[0m \u001b[1;33m=\u001b[0m \u001b[1;33m[\u001b[0m\u001b[0mX_train\u001b[0m\u001b[1;33m,\u001b[0m \u001b[0my_train\u001b[0m\u001b[1;33m,\u001b[0m \u001b[0mX_test\u001b[0m\u001b[1;33m,\u001b[0m \u001b[0my_test\u001b[0m\u001b[1;33m]\u001b[0m\u001b[1;33m\u001b[0m\u001b[1;33m\u001b[0m\u001b[0m\n\u001b[0;32m      4\u001b[0m \u001b[1;33m\u001b[0m\u001b[0m\n\u001b[0;32m      5\u001b[0m \u001b[0mconfusion_matrix\u001b[0m\u001b[1;33m(\u001b[0m\u001b[0msgd_clf\u001b[0m\u001b[1;33m,\u001b[0m \u001b[1;33m*\u001b[0m\u001b[0mstd_params\u001b[0m\u001b[1;33m)\u001b[0m\u001b[1;33m\u001b[0m\u001b[1;33m\u001b[0m\u001b[0m\n",
      "\u001b[1;31mImportError\u001b[0m: cannot import name 'confusion_matrix' from 'utils.usefull_funcs' (c:\\Users\\smirn\\dev\\Cardiotocography\\utils\\usefull_funcs.py)"
     ]
    }
   ],
   "source": [
    "from utils.usefull_funcs import confusion_matrix\n",
    "\n",
    "std_params = [X_train, y_train, X_test, y_test]\n",
    "\n",
    "confusion_matrix(sgd_clf, *std_params)"
   ]
  },
  {
   "cell_type": "code",
   "execution_count": null,
   "metadata": {},
   "outputs": [],
   "source": []
  },
  {
   "cell_type": "code",
   "execution_count": null,
   "metadata": {},
   "outputs": [],
   "source": []
  }
 ]
}